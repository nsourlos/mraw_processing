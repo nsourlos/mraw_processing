{
 "cells": [
  {
   "cell_type": "code",
   "execution_count": 1,
   "id": "1a92237d",
   "metadata": {},
   "outputs": [],
   "source": [
    "import pyMRAW\n",
    "import os\n",
    "import cv2\n",
    "from tqdm import tqdm "
   ]
  },
  {
   "cell_type": "code",
   "execution_count": 2,
   "id": "7ca40e45",
   "metadata": {},
   "outputs": [],
   "source": [
    "path=os.path.join(os.path.expanduser(\"~\"), \"Desktop\", \"Side_BI_32mm\") #Path od the original cihx file\n",
    "\n",
    "# Create output directory if it doesn't exist\n",
    "output_dir = os.path.join(os.path.expanduser(\"~\"), \"Desktop\", \"img_video\")\n",
    "os.makedirs(output_dir, exist_ok=True)"
   ]
  },
  {
   "cell_type": "code",
   "execution_count": 3,
   "id": "d5c9f372",
   "metadata": {},
   "outputs": [
    {
     "name": "stderr",
     "output_type": "stream",
     "text": [
      "/opt/anaconda3/envs/runpod/lib/python3.12/site-packages/pyMRAW.py:104: UserWarning: Clipped footage! (Total frame: 13214, Original total frame: 43666)\n",
      "  warnings.warn('Clipped footage! (Total frame: {}, Original total frame: {})'.format(cih['Total Frame'], cih['Original Total Frame'] ))\n",
      "/opt/anaconda3/envs/runpod/lib/python3.12/site-packages/pyMRAW.py:128: UserWarning: 12bit images will be loaded into memory!\n",
      "  warnings.warn(\"12bit images will be loaded into memory!\")\n"
     ]
    }
   ],
   "source": [
    "images, info = pyMRAW.load_video(path+'/Side_Video_BI.cihx')"
   ]
  },
  {
   "cell_type": "code",
   "execution_count": 4,
   "id": "f15141a6",
   "metadata": {},
   "outputs": [
    {
     "data": {
      "text/plain": [
       "{'Date': '2023/8/25',\n",
       " 'Camera Type': 'FASTCAM Nova S16 type 1100K-M-64GB 10GbE model',\n",
       " 'Record Rate(fps)': 16000.0,\n",
       " 'Shutter Speed(s)': 60000.0,\n",
       " 'Total Frame': 13214,\n",
       " 'Original Total Frame': 43666,\n",
       " 'Image Width': 1024,\n",
       " 'Image Height': 1024,\n",
       " 'File Format': 'Mraw',\n",
       " 'EffectiveBit Depth': 12,\n",
       " 'EffectiveBit Side': 'Lower',\n",
       " 'Color Bit': 12,\n",
       " 'Comment Text': ''}"
      ]
     },
     "execution_count": 4,
     "metadata": {},
     "output_type": "execute_result"
    }
   ],
   "source": [
    "info"
   ]
  },
  {
   "cell_type": "code",
   "execution_count": 5,
   "id": "70e5e570",
   "metadata": {},
   "outputs": [
    {
     "data": {
      "text/plain": [
       "(1024, 1024)"
      ]
     },
     "execution_count": 5,
     "metadata": {},
     "output_type": "execute_result"
    }
   ],
   "source": [
    "images[0].shape #Shape of one frame"
   ]
  },
  {
   "cell_type": "code",
   "execution_count": null,
   "id": "3e0ca591",
   "metadata": {},
   "outputs": [],
   "source": [
    "# Save each image as a separate file - Start from 7199 for the above file since before mostly empty\n",
    "for i, img in tqdm(enumerate(images), total=len(images), desc=\"Saving frames\"):\n",
    "    # Apply contrast enhancement\n",
    "    # The image is 12-bit, so we need to normalize it properly to 8-bit\n",
    "    # Scale from 12-bit (0-4095) to 8-bit (0-255)\n",
    "    # img_normalized = cv2.normalize(img, None, 0, 255, cv2.NORM_MINMAX) #Doesn't make any difference\n",
    "    img_32bit = img.astype('float32')#'uint8')\n",
    "\n",
    "    # Apply histogram equalization to enhance contrast\n",
    "    # img_8bit = cv2.equalizeHist(img_8bit) #CLAHE, GaussianBlur, Canny, not working\n",
    "\n",
    "    alpha = 2  # Contrast (1.0-3.0)\n",
    "    beta = 30    # Brightness (0-100) - Lower might be better for bubbles?\n",
    "    img_adjusted = cv2.convertScaleAbs(img_32bit, alpha=alpha, beta=beta) #Makes it a bit lighter\n",
    "\n",
    "    # Rotate image 90 degrees clockwise\n",
    "    img_rotated = cv2.rotate(img_adjusted, cv2.ROTATE_90_CLOCKWISE)\n",
    "    output_path = os.path.join(output_dir, f'frame_{i:05d}.png')\n",
    "    cv2.imwrite(output_path, img_rotated)\n",
    "\n",
    "print(f\"Saved {len(images)} frames to {output_dir}\")"
   ]
  },
  {
   "cell_type": "markdown",
   "id": "02694190",
   "metadata": {},
   "source": [
    "Save every 10 frames to video"
   ]
  },
  {
   "cell_type": "code",
   "execution_count": null,
   "id": "ec753a6f",
   "metadata": {},
   "outputs": [],
   "source": [
    "# Get list of frame files\n",
    "frame_files = sorted([f for f in os.listdir(output_dir) if f.startswith('frame_')])\n",
    "\n",
    "# Read first frame to get dimensions\n",
    "first_frame = cv2.imread(os.path.join(output_dir, frame_files[0]))\n",
    "height, width = first_frame.shape[:2]\n",
    "\n",
    "# Create video writer\n",
    "fps = 30  # You can adjust this value\n",
    "output_video = os.path.join(output_dir, 'output_video.mp4')\n",
    "fourcc = cv2.VideoWriter_fourcc(*'mp4v')\n",
    "out = cv2.VideoWriter(output_video, fourcc, fps, (width, height))\n",
    "\n",
    "# Write frames to video\n",
    "print(\"Creating video...\")\n",
    "for i, frame_file in enumerate(tqdm(frame_files, desc=\"Processing frames\")):\n",
    "    if i % 10 == 0:  # Only process every 10th frame\n",
    "        frame = cv2.imread(os.path.join(output_dir, frame_file))\n",
    "        out.write(frame)\n",
    "\n",
    "# Release video writer\n",
    "out.release()\n",
    "print(f\"Video saved to {output_video}\")"
   ]
  }
 ],
 "metadata": {
  "kernelspec": {
   "display_name": "Python 3 (ipykernel)",
   "language": "python",
   "name": "python3"
  },
  "language_info": {
   "codemirror_mode": {
    "name": "ipython",
    "version": 3
   },
   "file_extension": ".py",
   "mimetype": "text/x-python",
   "name": "python",
   "nbconvert_exporter": "python",
   "pygments_lexer": "ipython3",
   "version": "3.12.7"
  }
 },
 "nbformat": 4,
 "nbformat_minor": 5
}
